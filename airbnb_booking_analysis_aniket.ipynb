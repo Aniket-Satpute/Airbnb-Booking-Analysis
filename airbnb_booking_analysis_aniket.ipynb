{
  "nbformat": 4,
  "nbformat_minor": 0,
  "metadata": {
    "colab": {
      "name": "airbnb booking analysis aniket.ipynb",
      "provenance": [],
      "authorship_tag": "ABX9TyPD2C7uulETv0flXFTLoTrW",
      "include_colab_link": true
    },
    "kernelspec": {
      "name": "python3",
      "display_name": "Python 3"
    },
    "language_info": {
      "name": "python"
    }
  },
  "cells": [
    {
      "cell_type": "markdown",
      "metadata": {
        "id": "view-in-github",
        "colab_type": "text"
      },
      "source": [
        "<a href=\"https://colab.research.google.com/github/Aniket-Satpute/Airbnb-Booking-Analysis/blob/main/airbnb_booking_analysis_aniket.ipynb\" target=\"_parent\"><img src=\"https://colab.research.google.com/assets/colab-badge.svg\" alt=\"Open In Colab\"/></a>"
      ]
    },
    {
      "cell_type": "markdown",
      "source": [
        "# **INTRODUCTION-**\n"
      ],
      "metadata": {
        "id": "9hNetqluXfjl"
      }
    },
    {
      "cell_type": "markdown",
      "metadata": {
        "id": "BUlYitW3n53C"
      },
      "source": [
        " \n",
        "## <b> Airbnb,is an American company that operates an online marketplace for lodging, primarily homestays for vacation rentals, and tourism activities.\n",
        "## <b>Airbnb connects people who want to rent out their homes with people looking for accommodations in that locality. Newyork is the most populous city in the United States, and one of the most popular tourism and business places globally. \n",
        "## <b>Airbnb offers people an easy, relatively stress-free way to earn some income from their property.\n",
        "\n",
        "\n"
      ]
    },
    {
      "cell_type": "markdown",
      "metadata": {
        "id": "hCuXcMaYoA7I"
      },
      "source": [
        "# **SCOPE OF THE PROJECT-**"
      ]
    },
    {
      "cell_type": "markdown",
      "source": [
        "## <b>The objective of the project is obtain the meaningful analysis about the Airbnb Bookings with respect to the factors asscociated with it. Mainly focused on terms as below-**\n",
        "\n",
        "1. Data Prepping/Wrangling.\n",
        "2. Checking the Null values for cleaning the Dataset for further analysis\n",
        "3. Checking the unique values for Analyzing the Dataset for further analysis\n",
        "4. Exploration of Neighbourhood group,Neighbourhood,Roomtype,Price,Reviews.\n",
        "5. Correlaton between variables.\n",
        "6. Analysis of busy hosts and key findings."
      ],
      "metadata": {
        "id": "TFj3zbAPcS7_"
      }
    },
    {
      "cell_type": "markdown",
      "source": [
        "# **PROBLEM STATEMENT-**"
      ],
      "metadata": {
        "id": "9Cb0J2voYIA2"
      }
    },
    {
      "cell_type": "markdown",
      "metadata": {
        "id": "Y06xIdG26kRF"
      },
      "source": [
        "## <b> Since 2008, guests and hosts have used Airbnb to expand on traveling possibilities and present a more unique, personalized way of experiencing the world. Today, Airbnb became one of a kind service that is used and recognized by the whole world. Data analysis on millions of listings provided through Airbnb is a crucial factor for the company. These millions of listings generate a lot of data - data that can be analyzed and used for security, business decisions, understanding of customers' and providers' (hosts) behavior and performance on the platform, guiding marketing initiatives, implementation of innovative additional services and much more. </b>\n",
        "\n",
        "## <b>This dataset has around 49,000 observations in it with 16 columns and it is a mix between categorical and numeric values. </b>\n",
        "\n",
        "## <b> Explore and analyze the data to discover key understandings (not limited to these) such as : \n",
        "* What can we learn about different hosts and areas?\n",
        "* What can we learn from predictions? (ex: locations, prices, reviews, etc)\n",
        "* Which hosts are the busiest and why?\n",
        "* Is there any noticeable difference of traffic among different areas and what could be the reason for it? </b>"
      ]
    },
    {
      "cell_type": "markdown",
      "metadata": {
        "id": "la83GDNa0cS1"
      },
      "source": [
        "  # **DATA PREPPING**"
      ]
    },
    {
      "cell_type": "markdown",
      "source": [
        "##**Mount A Drive-**"
      ],
      "metadata": {
        "id": "luQ5QklKYbnR"
      }
    },
    {
      "cell_type": "code",
      "execution_count": 1,
      "metadata": {
        "colab": {
          "base_uri": "https://localhost:8080/"
        },
        "id": "oB-E8pRSoYOs",
        "outputId": "b4b24226-79ed-4cf3-c66d-14ad04f3912d"
      },
      "outputs": [
        {
          "output_type": "stream",
          "name": "stdout",
          "text": [
            "Mounted at /content/drive\n"
          ]
        }
      ],
      "source": [
        "from google.colab import drive\n",
        "drive.mount('/content/drive')"
      ]
    },
    {
      "cell_type": "markdown",
      "source": [
        "## **Importing the libraries-**"
      ],
      "metadata": {
        "id": "CKmN_XBDbwGt"
      }
    },
    {
      "cell_type": "code",
      "execution_count": 2,
      "metadata": {
        "id": "lasaSG_0oOd8"
      },
      "outputs": [],
      "source": [
        "#Importing libraries for Exploratory data Analysis\n",
        "import numpy as np # For some math operations on arrays in predictions.\n",
        "import pandas as pd  # To upload the large data set and wrangling the data.\n",
        "import matplotlib.pyplot as plt  # Used for visualization of dataset.\n",
        "import seaborn as sns  # Used for visualization of dataset."
      ]
    },
    {
      "cell_type": "code",
      "execution_count": 3,
      "metadata": {
        "id": "9v4ReFCNqrgJ"
      },
      "outputs": [],
      "source": [
        "# Loading Data set of csv file\n",
        "ABA = pd.read_csv(\"/content/drive/MyDrive/airbnb booking analysis github/Airbnb NYC 2019.csv\")"
      ]
    },
    {
      "cell_type": "markdown",
      "metadata": {
        "id": "6um0loKI1ZNh"
      },
      "source": [
        "## **Some Basic Information about Data set-**"
      ]
    },
    {
      "cell_type": "code",
      "execution_count": 4,
      "metadata": {
        "colab": {
          "base_uri": "https://localhost:8080/"
        },
        "id": "5GUWklJhuPPb",
        "outputId": "318a5a2c-4ac3-4cfb-c02c-b9919554326a"
      },
      "outputs": [
        {
          "output_type": "stream",
          "name": "stdout",
          "text": [
            "<class 'pandas.core.frame.DataFrame'>\n",
            "RangeIndex: 48895 entries, 0 to 48894\n",
            "Data columns (total 16 columns):\n",
            " #   Column                          Non-Null Count  Dtype  \n",
            "---  ------                          --------------  -----  \n",
            " 0   id                              48895 non-null  int64  \n",
            " 1   name                            48879 non-null  object \n",
            " 2   host_id                         48895 non-null  int64  \n",
            " 3   host_name                       48874 non-null  object \n",
            " 4   neighbourhood_group             48895 non-null  object \n",
            " 5   neighbourhood                   48895 non-null  object \n",
            " 6   latitude                        48895 non-null  float64\n",
            " 7   longitude                       48895 non-null  float64\n",
            " 8   room_type                       48895 non-null  object \n",
            " 9   price                           48895 non-null  int64  \n",
            " 10  minimum_nights                  48895 non-null  int64  \n",
            " 11  number_of_reviews               48895 non-null  int64  \n",
            " 12  last_review                     38843 non-null  object \n",
            " 13  reviews_per_month               38843 non-null  float64\n",
            " 14  calculated_host_listings_count  48895 non-null  int64  \n",
            " 15  availability_365                48895 non-null  int64  \n",
            "dtypes: float64(3), int64(7), object(6)\n",
            "memory usage: 6.0+ MB\n"
          ]
        }
      ],
      "source": [
        "ABA.info()"
      ]
    }
  ]
}